{
    "metadata": {
        "kernelspec": {
            "name": "SQL",
            "display_name": "SQL",
            "language": "sql"
        },
        "language_info": {
            "name": "sql",
            "version": ""
        }
    },
    "nbformat_minor": 2,
    "nbformat": 4,
    "cells": [
        {
            "cell_type": "code",
            "source": [
                "SELECT c.[State Province], c.City, SUM(profit) AS Profit\r\n",
                "FROM fact.Sale s \r\n",
                "JOIN Dimension.City c ON s.[City Key] = c.[City Key]\r\n",
                "GROUP BY c.[State Province], c.City "
            ],
            "metadata": {
                "azdata_cell_guid": "499a55ac-8332-45d5-a9d6-9555e56b5996",
                "language": "sql",
                "tags": []
            },
            "outputs": [],
            "execution_count": null
        },
        {
            "cell_type": "code",
            "source": [
                "--create annual profit report\r\n",
                "SELECT d.[Fiscal Year Label], SUM(s.Profit) AS Profit\r\n",
                "FROM Fact.Sale s JOIN Dimension.Date d on s.[Invoice Date Key] =d.[Date]\r\n",
                "GROUP BY d.[Fiscal Year Label]"
            ],
            "metadata": {
                "azdata_cell_guid": "f3677ec5-6c97-47fb-8025-ea5e055768d4",
                "language": "sql"
            },
            "outputs": [],
            "execution_count": null
        },
        {
            "cell_type": "code",
            "source": [
                "SELECT DISTINCT [Postal Code] FROM Dimension.Customer;\r\n",
                "\r\n",
                "SELECT [Customer Key], Customer, [Valid From] FROM Dimension.Customer WHERE [Postal Code] = '90152'"
            ],
            "metadata": {
                "azdata_cell_guid": "69293a43-e281-4a7a-b171-c739a2e52d53",
                "language": "sql"
            },
            "outputs": [],
            "execution_count": 5
        }
    ]
}