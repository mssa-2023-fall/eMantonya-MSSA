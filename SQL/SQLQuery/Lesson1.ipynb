{
    "metadata": {
        "kernelspec": {
            "name": "SQL",
            "display_name": "SQL",
            "language": "sql"
        },
        "language_info": {
            "name": "sql",
            "version": ""
        }
    },
    "nbformat_minor": 2,
    "nbformat": 4,
    "cells": [
        {
            "cell_type": "code",
            "source": [
                "SELECT CONCAT(CustomerName, WebsiteURL) as \"Customer Name And Web Site\"\n",
                "FROM Sales.Customers;\n",
                "\n",
                "--Comment\n",
                "SELECT LEFT(CustomerName,1) \"CustomerInitial\", Count(CustomerID) as COUNT\n",
                "FROM Sales.Customers\n",
                "Group by LEFT(CustomerName,1)\n",
                ""
            ],
            "metadata": {
                "azdata_cell_guid": "658142a9-f4de-46e6-b94f-b5378407b467",
                "language": "sql",
                "tags": []
            },
            "outputs": [],
            "execution_count": null
        },
        {
            "cell_type": "code",
            "source": [
                "SELECT \r\n",
                "    DATEPART(ww, o.OrderDate) as \"Week\",\r\n",
                "    DATEPART(dw, o.OrderDate) as \"DayofWeek\",\r\n",
                "    COUNT(OrderID) as \"NumberOfOrders\"\r\n",
                "FROM Sales.Orders o\r\n",
                "GROUP BY DATEPART(ww, o.OrderDate),DATEPART(dw, o.OrderDate)\r\n",
                "ORDER BY 1, 2"
            ],
            "metadata": {
                "azdata_cell_guid": "51a4cdfd-4d4d-4d1a-bde5-35b01c643496",
                "language": "sql",
                "tags": []
            },
            "outputs": [],
            "execution_count": null
        },
        {
            "cell_type": "markdown",
            "source": [
                "This first section is going to explore projection part of SQL query, \n",
                "\n",
                "projection shape column result - starting with just column to apply functions to the columns"
            ],
            "metadata": {
                "azdata_cell_guid": "46f44e38-aefe-430f-bfba-3bdde5993dac"
            },
            "attachments": {}
        },
        {
            "cell_type": "code",
            "source": [
                "SELECT FullName, LogonName, EmailAddress\r\n",
                "FROM Application.People\r\n",
                ""
            ],
            "metadata": {
                "azdata_cell_guid": "411a7537-1fcb-4357-bd2d-fcb2de2faa98",
                "language": "sql",
                "tags": []
            },
            "outputs": [],
            "execution_count": null
        },
        {
            "cell_type": "code",
            "source": [
                "SELECT FullName, LogonName, EmailAddress, \r\n",
                "    CHARINDEX('@', EmailAddress) as Position,\r\n",
                "    LEFT(EmailAddress, CHARINDEX('@', EmailAddress) - 1) as Mailbox,\r\n",
                "    SUBSTRING(EmailAddress, CHARINDEX('@', EmailAddress)+ 1, 100) as DomainName\r\n",
                "FROM Application.People\r\n",
                "WHERE EmailAddress IS NOT NULL"
            ],
            "metadata": {
                "language": "sql",
                "azdata_cell_guid": "6afcd302-4f95-496b-bf8e-e4c61786e687",
                "tags": []
            },
            "outputs": [],
            "execution_count": null
        },
        {
            "cell_type": "code",
            "source": [
                "--present a list of people with capitalized initial firstName followed by last name\r\n",
                "SELECT UPPER(LEFT(FullName, 1)) + '. ' + SUBSTRING(FullName, CHARINDEX(' ', FullName) + 1, 100) as Name, \r\n",
                "IIF(IsSalesperson=1, 'SalesPerson', IIF(IsEmployee=1, 'Employee', 'Customer')) as Role\r\n",
                "FROM Application.People\r\n",
                "ORDER BY Role DESC, LTRIM(SUBSTRING(FullName, CHARINDEX(' ', FullName) + 1, 100)) ASC"
            ],
            "metadata": {
                "azdata_cell_guid": "66a60e20-821b-4d95-82f1-6ba3e95a035b",
                "language": "sql",
                "tags": []
            },
            "outputs": [],
            "execution_count": null
        },
        {
            "cell_type": "code",
            "source": [
                "--Mini Challenge, using the people table, give me a count of salesperson vs employees vs non-employees\r\n",
                "Select COUNT(IIF(IsSalesperson=1, 1, null)) as Sales,\r\n",
                "    COUNT(IIF(IsEmployee=1, 1, null)) as Employee,\r\n",
                "    COUNT(IIF(IsSalesperson=0 AND IsEmployee=0, 1, null)) as Others\r\n",
                "    FROM Application.People"
            ],
            "metadata": {
                "azdata_cell_guid": "ef156c05-fe62-4a27-8bae-ce0857c56081",
                "language": "sql"
            },
            "outputs": [],
            "execution_count": null
        },
        {
            "cell_type": "code",
            "source": [
                "SELECT TOP 1 (SELECT COUNT(IsSalesperson) FROM Application.People WHERE IsSalesperson = 1) AS Sales,\r\n",
                "    (Select COUNT(IsEmployee) FROM Application.People WHERE IsEmployee = 1) AS Employees\r\n",
                "FROM Application.People"
            ],
            "metadata": {
                "azdata_cell_guid": "7c7a9c3e-8bfe-4b3e-818e-0a2f9766320a",
                "language": "sql",
                "tags": []
            },
            "outputs": [],
            "execution_count": null
        },
        {
            "cell_type": "code",
            "source": [
                "Select Count(o.OrderID) as OrderCount, DaysToDeliver\r\n",
                "FROM\r\n",
                "(SELECT OrderID, DATEDIFF(DAY, o.OrderDate, o.ExpectedDeliveryDate) as DaysToDeliver\r\n",
                "FROM Sales.Orders o) o\r\n",
                "GROUP BY DaysToDeliver"
            ],
            "metadata": {
                "azdata_cell_guid": "059b2e87-024f-47b4-bb83-cc20e8eeed53",
                "language": "sql",
                "tags": []
            },
            "outputs": [],
            "execution_count": null
        },
        {
            "cell_type": "code",
            "source": [
                "SELECT *\r\n",
                "FROM Application.People WHERE FullName LIKE 'A%'"
            ],
            "metadata": {
                "azdata_cell_guid": "bc1b6ba9-7e33-4673-a1b3-d27403aa9365",
                "language": "sql",
                "tags": []
            },
            "outputs": [],
            "execution_count": null
        },
        {
            "cell_type": "code",
            "source": [
                "SELECT COUNT(OrderID)\r\n",
                "FROM Sales.Orders\r\n",
                "WHERE OrderDate BETWEEN '2014-01-01' AND '2014-12-31' --Same as WHERE DATEPART(yyyy, OrderDate) = '2014'"
            ],
            "metadata": {
                "language": "sql",
                "azdata_cell_guid": "5f9942e9-55db-410e-9c36-3616a35dcfa3"
            },
            "outputs": [],
            "execution_count": null
        },
        {
            "cell_type": "code",
            "source": [
                "SELECT TOP 5 * FROM Sales.Invoices"
            ],
            "metadata": {
                "language": "sql",
                "azdata_cell_guid": "848ff39c-9b65-424a-9dab-5b136c48e1a3"
            },
            "outputs": [],
            "execution_count": null
        },
        {
            "cell_type": "code",
            "source": [
                "SELECT * FROM\r\n",
                "(SELECT LineTotal, NTILE(3) OVER (\r\n",
                "    PARTITION BY OrderID\r\n",
                "    ORDER BY LineTotal DESC) as NthTile\r\n",
                "    FROM\r\n",
                "    (SELECT *, Quantity * UnitPrice AS LineTotal FROM Sales.OrderLines)\r\n",
                "AS source) as NthTileResult"
            ],
            "metadata": {
                "language": "sql",
                "azdata_cell_guid": "5986ddc1-1cd6-4976-928f-becd72aaa9cf",
                "tags": []
            },
            "outputs": [],
            "execution_count": null
        },
        {
            "cell_type": "code",
            "source": [
                "SELECT OrderID, SUM(Quantity * UnitPrice) AS OrderTotal,\r\n",
                "COUNT(OrderLineID) as NumberOfItems-- can only contain 1 group by expression, 2 aggregate reuslt\r\n",
                "FROM Sales.OrderLines\r\n",
                "GROUP BY OrderID\r\n",
                "HAVING SUM(Quantity*UnitPrice) > 10000 AND COUNT(OrderLineID) > 2"
            ],
            "metadata": {
                "language": "sql",
                "azdata_cell_guid": "3596d689-0668-40f5-8c3e-681097a43077",
                "tags": []
            },
            "outputs": [],
            "execution_count": null
        },
        {
            "cell_type": "code",
            "source": [
                "-- each person end of the month total for each month -- limit data to year 2015\r\n",
                "--Customer  Month   NumOfTransactions   TransactionTotal\r\n",
                "--Bob       Jan         16                  8561\r\n",
                "SELECT CustomerID, DATEPART(mm, TransactionDate) AS Month,\r\n",
                "COUNT(CustomerTransactionID) AS NumberOfTransactions,\r\n",
                "SUM(TransactionAmount) AS TransactionTotal\r\n",
                "FROM Sales.CustomerTransactions\r\n",
                "WHERE DATEPART(yyyy, TransactionDate) = '2015'\r\n",
                "GROUP BY CustomerID, DATEPART(mm, TransactionDate)\r\n",
                "ORDER BY 1, 2, 3"
            ],
            "metadata": {
                "language": "sql",
                "azdata_cell_guid": "5c72f699-4a89-48b3-a1af-3486194c692f"
            },
            "outputs": [],
            "execution_count": null
        },
        {
            "cell_type": "code",
            "source": [
                "--produce a report of customer and their categories\r\n",
                "-- Contoso      Wholesaler\r\n",
                "-- Fabrikam     Warehouse\r\n",
                "--Sales.Customer    Sales.CustomerCategories\r\n",
                "SELECT CustomerName, CustomerCategoryName \r\n",
                "FROM Sales.Customers cust \r\n",
                "JOIN Sales.CustomerCategories cat \r\n",
                "ON cat.CustomerCategoryID = cust.CustomerCategoryID"
            ],
            "metadata": {
                "language": "sql",
                "azdata_cell_guid": "138e3450-b816-4509-8800-dca6345078cd",
                "tags": []
            },
            "outputs": [],
            "execution_count": null
        },
        {
            "cell_type": "code",
            "source": [
                "SELECT c.CountryName, COUNT(s.StateProvinceID)\r\n",
                "FROM Application.Countries c\r\n",
                "JOIN Application.StateProvinces s\r\n",
                "ON s.CountryID = c.CountryID\r\n",
                "GROUP BY c.CountryName"
            ],
            "metadata": {
                "language": "sql",
                "azdata_cell_guid": "5bd2cd87-686f-4161-bfd9-573718767859"
            },
            "outputs": [],
            "execution_count": null
        },
        {
            "cell_type": "code",
            "source": [
                "--per state how many vendors and customers are there city\r\n",
                "SELECT s.StateProvinceName, COUNT(sup.SupplierID) AS NumOfSuppliers, COUNT(cust.CustomerID) as NumOfCustomers\r\n",
                "FROM Application.StateProvinces s \r\n",
                "LEFT JOIN Application.Cities c ON s.StateProvinceID = c.StateProvinceID\r\n",
                "LEFT JOIN Purchasing.Suppliers sup ON sup.PostalCityID = c.CityID\r\n",
                "LEFT JOIN Sales.Customers cust ON c.CityID = cust.PostalCityID\r\n",
                "GROUP BY s.StateProvinceName"
            ],
            "metadata": {
                "language": "sql",
                "azdata_cell_guid": "802e5c6f-a733-4d77-86ef-984a32522c43"
            },
            "outputs": [],
            "execution_count": 1
        }
    ]
}